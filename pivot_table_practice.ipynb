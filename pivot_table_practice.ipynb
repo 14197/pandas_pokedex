{
 "cells": [
  {
   "cell_type": "code",
   "execution_count": 7,
   "id": "6bb7d7b9-5325-447a-a714-e73f3c30ba79",
   "metadata": {
    "tags": []
   },
   "outputs": [],
   "source": [
    "import pandas as pd\n",
    "import numpy as np\n",
    "\n",
    "pokemon = pd.read_csv('https://raw.githubusercontent.com/lgreski/pokemonData/master/Pokemon.csv', index_col=1)\n",
    "games = pd.read_csv('clean_games.csv', index_col=0)"
   ]
  },
  {
   "cell_type": "markdown",
   "id": "373d8c10-4729-4c31-a445-05cbdc3ecdd3",
   "metadata": {
    "tags": []
   },
   "source": [
    "Examine the first few rows of each dataframe. What is the **index** for each?"
   ]
  },
  {
   "cell_type": "code",
   "execution_count": 11,
   "id": "c5af02e2-4536-4ea1-91f8-95daf206abf5",
   "metadata": {
    "tags": []
   },
   "outputs": [],
   "source": [
    "# Examine the dataframes here:\n"
   ]
  },
  {
   "cell_type": "markdown",
   "id": "39aa4d47-c3c7-413c-b7ef-0dde8902ddaa",
   "metadata": {},
   "source": [
    "`pokemon` index:\n",
    "\n",
    "`games` index:"
   ]
  },
  {
   "cell_type": "markdown",
   "id": "cee954b2-8e83-4b43-9085-2a11231ae121",
   "metadata": {},
   "source": [
    "Use `pd.pivot_table` to create a dataframe that displays a count of the number of Pokemon of each *primary* type within each generation. Specifically, the rows should represent primary type, the columns should represent the generation, and the values are a count of the number of Pokemon for each type/generation combo.\n"
   ]
  },
  {
   "cell_type": "code",
   "execution_count": 12,
   "id": "8690a344-f145-4ba7-893b-9f8ba76f25be",
   "metadata": {
    "tags": []
   },
   "outputs": [],
   "source": [
    "# Your code here\n"
   ]
  },
  {
   "cell_type": "markdown",
   "id": "e9808318-25e6-48ba-af1b-00fff28b70b5",
   "metadata": {},
   "source": [
    "Use `pd.pivot_table` to create a dataframe that displays the average *number* of reviews for games broken down by category between 2001 and 2021. The categories should be the row labels."
   ]
  },
  {
   "cell_type": "code",
   "execution_count": 14,
   "id": "d3323b72-f893-4b98-899b-3d19ed327870",
   "metadata": {
    "tags": []
   },
   "outputs": [],
   "source": [
    "# Your code here\n"
   ]
  }
 ],
 "metadata": {
  "kernelspec": {
   "display_name": "Python 3 (ipykernel)",
   "language": "python",
   "name": "python3"
  },
  "language_info": {
   "codemirror_mode": {
    "name": "ipython",
    "version": 3
   },
   "file_extension": ".py",
   "mimetype": "text/x-python",
   "name": "python",
   "nbconvert_exporter": "python",
   "pygments_lexer": "ipython3",
   "version": "3.10.3"
  }
 },
 "nbformat": 4,
 "nbformat_minor": 5
}
